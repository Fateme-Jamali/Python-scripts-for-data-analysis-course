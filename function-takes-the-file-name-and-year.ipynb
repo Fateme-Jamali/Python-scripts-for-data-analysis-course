{
 "cells": [
  {
   "cell_type": "code",
   "execution_count": null,
   "metadata": {},
   "outputs": [],
   "source": [
    "import matplotlib.pyplot as plt\n",
    "import numpy as np\n",
    "import pandas as pd\n",
    "def problem4(file,x):\n",
    "    #read excel file\n",
    "    xls = pd.ExcelFile(file)\n",
    "    #use CITIES-OVER-300K aheet of data\n",
    "    data = pd.read_excel(xls, sheet_name='CITIES-OVER-300K')\n",
    "    #drop extra columns\n",
    "    data.drop(['Country Code' , 'City Code','Note','Latitude','Longitude'] , axis='columns', inplace=True)\n",
    "    #define year for function\n",
    "    year=(x)\n",
    "    #creat new data frame on needed information\n",
    "    data2=data[['Country or area','Urban Agglomeration',year]]\n",
    "    #get 10-top most populated city of each year\n",
    "    data_year=data2.nlargest(10, [year])\n",
    "    #display(data_year)\n",
    "    \n",
    "    #Part a--bar plot of 10-top most populated city  \n",
    "    plt.rcdefaults()\n",
    "    fig, ax = plt.subplots(figsize=(10,6))\n",
    "    # Example data\n",
    "    people = data_year[data_year.columns[1]]\n",
    "    y_pos = np.arange(len(people))\n",
    "    #performance = 3 + 10 * np.random.rand(len(people))\n",
    "    performance=data_year[data_year.columns[2]]\n",
    "    error = np.random.rand(len(people))\n",
    "    rects=ax.barh(y_pos, performance, xerr=error, align='center')\n",
    "    ax.invert_yaxis()  # labels read top-to-bottom\n",
    "    ax.set_xlabel('population (thousands)' , fontsize=15)\n",
    "    ax.text(0.9, 0.1, year,verticalalignment='bottom', horizontalalignment='right',transform=ax.transAxes,color='red',size=30)\n",
    "    for i, (p, pr) in enumerate(zip(data_year[\"Country or area\"], data_year[\"Urban Agglomeration\"])):\n",
    "        plt.text(s=p, x=1, y=i, color='black', verticalalignment=\"top\", horizontalalignment=\"left\", size=8)\n",
    "        plt.text(s=pr , x=1, y=i, color='black',verticalalignment=\"bottom\",horizontalalignment=\"left\", size=10)\n",
    "    display(plt.show)\n",
    "    \n",
    " #partb-- plot chart\n",
    "    df = pd.DataFrame(data_year, columns = ['Urban Agglomeration', year])\n",
    "    fig = plt.figure( figsize=(6,6))\n",
    "    ax = fig.add_subplot( aspect='equal')\n",
    "    df.plot(kind='pie', y = year, ax=ax, autopct='%1.1f%%',startangle=90, shadow=False, labels=df['Urban Agglomeration'], legend = False, fontsize=15)"
   ]
  },
  {
   "cell_type": "code",
   "execution_count": null,
   "metadata": {},
   "outputs": [],
   "source": [
    "problem4(\"/home/Desktop/global-city-population-estimates.xls\",\"2015\")"
   ]
  }
 ],
 "metadata": {
  "kernelspec": {
   "display_name": "Python 3",
   "language": "python",
   "name": "python3"
  },
  "language_info": {
   "codemirror_mode": {
    "name": "ipython",
    "version": 3
   },
   "file_extension": ".py",
   "mimetype": "text/x-python",
   "name": "python",
   "nbconvert_exporter": "python",
   "pygments_lexer": "ipython3",
   "version": "3.8.5"
  }
 },
 "nbformat": 4,
 "nbformat_minor": 4
}
