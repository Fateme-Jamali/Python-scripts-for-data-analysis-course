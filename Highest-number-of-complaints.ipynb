{
 "cells": [
  {
   "cell_type": "code",
   "execution_count": null,
   "metadata": {},
   "outputs": [],
   "source": [
    "def problem5(filename):\n",
    "    import pandas as pd\n",
    "    import numpy as np\n",
    "    import matplotlib.pyplot as plt\n",
    "    import calendar\n",
    "    from datetime import datetime,date\n",
    "    #read file\n",
    "    df=pd.read_csv(filename, index_col=0)\n",
    "    #convert datetime to only date\n",
    "    df['Created Date'] = df['Created Date'].astype('datetime64[ns]') \n",
    "    df['Created Date'] = pd.to_datetime(df['Created Date']).dt.date\n",
    "    #part a\n",
    "    complaintTypecity = pd.DataFrame({'count':df.groupby(['Created Date']).size()}).reset_index()\n",
    "    sortedComplaintType = complaintTypecity.sort_values(by=['count'], ascending = False)\n",
    "    sortedComplaintType\n",
    "    dt=sortedComplaintType.iloc[0,0]\n",
    "    #print(dt)\n",
    "    display(dt.strftime(\"%B\")+'-'+dt.strftime(\"%d\")+'-'+calendar.day_name[dt.weekday()])\n",
    "    #partb\n",
    "    #rename created date column to day\n",
    "    df.rename({\"Created Date\": \"day\"},axis='columns',inplace =True)\n",
    "    df['day'] = pd.to_datetime(df['day'])\n",
    "    df['day'] = df['day'].dt.day_name()\n",
    "    #find 10-top list\n",
    "    tentop=df['Complaint Type'].value_counts().nlargest(10)\n",
    "    new=tentop.to_frame()\n",
    "    toplist=new.index\n",
    "    df2=df.groupby(['day','Complaint Type']).size().reset_index()\n",
    "    df2.set_index('day')\n",
    "    df2=df2[df2['Complaint Type'].isin(toplist)]\n",
    "    newdf = df2.pivot(index='day', columns='Complaint Type')\n",
    "    display(newdf)\n",
    "    #partc\n",
    "    tentop=df['Complaint Type'].value_counts().nlargest(10)\n",
    "    new=tentop.to_frame()\n",
    "    toplist=new.index\n",
    "    df2=df.groupby(['Status','Complaint Type']).size().reset_index()\n",
    "    df2.set_index('Complaint Type')\n",
    "    df2=df2[df2['Complaint Type'].isin(toplist)]\n",
    "    newdf = df2.pivot(index='Complaint Type', columns='Status')\n",
    "    #display(newdf)\n",
    "    res = newdf.div(newdf.sum(axis=1), axis=0)*100\n",
    "    res=res.reset_index()\n",
    "    res=res.fillna(0)\n",
    "    display(res.round(2))"
   ]
  },
  {
   "cell_type": "code",
   "execution_count": null,
   "metadata": {},
   "outputs": [],
   "source": [
    "problem5(\"/home/Desktop/311-service-requests.csv\")"
   ]
  }
 ],
 "metadata": {
  "kernelspec": {
   "display_name": "Python 3",
   "language": "python",
   "name": "python3"
  },
  "language_info": {
   "codemirror_mode": {
    "name": "ipython",
    "version": 3
   },
   "file_extension": ".py",
   "mimetype": "text/x-python",
   "name": "python",
   "nbconvert_exporter": "python",
   "pygments_lexer": "ipython3",
   "version": "3.8.5"
  }
 },
 "nbformat": 4,
 "nbformat_minor": 4
}
