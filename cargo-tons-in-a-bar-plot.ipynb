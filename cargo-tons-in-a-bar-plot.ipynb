{
 "cells": [
  {
   "cell_type": "code",
   "execution_count": null,
   "metadata": {},
   "outputs": [],
   "source": [
    "def problem3(file):\n",
    "    import numpy as np\n",
    "    import pandas as pd\n",
    "    from datetime import datetime\n",
    "    import matplotlib.pyplot as plot\n",
    "    #read file\n",
    "    cargo=pd.read_csv(file)\n",
    "    #delete DataExtractDate column\n",
    "    del cargo['DataExtractDate']\n",
    "    #drop duplicate rows\n",
    "    cargo = cargo.drop_duplicates()\n",
    "    #convert datetime to only date\n",
    "    cargo['ReportPeriod'] = pd.to_datetime(cargo['ReportPeriod'])\n",
    "    cargo['ReportPeriod'] = cargo['ReportPeriod'].dt.year\n",
    "    #compute sum of AirCargoTons for domestic and internatioanl and creat a new table\n",
    "    cargo=cargo.groupby(['ReportPeriod','Domestic_International'])['AirCargoTons'].sum().reset_index()\n",
    "    cargo=cargo.pivot_table('AirCargoTons', index=['ReportPeriod'], columns='Domestic_International')\n",
    "    #display(cargo)\n",
    "    #bar plot of created dataframe base on sum of AirCargoTons\n",
    "    from matplotlib import pyplot as plt\n",
    "    df = pd.DataFrame({'Domestic': cargo['Domestic'],'International': cargo['International']}, index=cargo.index)\n",
    "    ax = df.plot.bar(rot=90)\n",
    "    plt.ylabel(\"Tons\")"
   ]
  },
  {
   "cell_type": "code",
   "execution_count": null,
   "metadata": {},
   "outputs": [],
   "source": [
    "problem3(\"/home/Desktop/los-angeles-international-airport-air-cargo-volume.csv\")"
   ]
  }
 ],
 "metadata": {
  "kernelspec": {
   "display_name": "Python 3",
   "language": "python",
   "name": "python3"
  },
  "language_info": {
   "codemirror_mode": {
    "name": "ipython",
    "version": 3
   },
   "file_extension": ".py",
   "mimetype": "text/x-python",
   "name": "python",
   "nbconvert_exporter": "python",
   "pygments_lexer": "ipython3",
   "version": "3.8.5"
  }
 },
 "nbformat": 4,
 "nbformat_minor": 4
}
