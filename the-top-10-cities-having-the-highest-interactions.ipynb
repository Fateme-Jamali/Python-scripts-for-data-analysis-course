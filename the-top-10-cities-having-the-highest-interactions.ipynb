{
 "cells": [
  {
   "cell_type": "code",
   "execution_count": null,
   "metadata": {},
   "outputs": [],
   "source": [
    "def Problem2(x):\n",
    "    import numpy as np\n",
    "    import pandas as pd \n",
    "    import matplotlib.pyplot as plt\n",
    "    #read data\n",
    "    order_items=pd.read_csv(x + '/' + \"olist_order_items_dataset.csv\")\n",
    "    orders=pd.read_csv(x + '/' + \"olist_orders_dataset.csv\")\n",
    "    customers=pd.read_csv(x + '/' + \"olist_customers_dataset.csv\")\n",
    "    sellers=pd.read_csv(x + '/' + \"datasets_55151_195341_olist_sellers_dataset.csv\")\n",
    "    product_translation=pd.read_csv(x + '/' + \"datasets_55151_195341_product_category_name_translation.csv\")\n",
    "    products=pd.read_csv(x + '/' + \"olist_products_dataset.csv\")\n",
    "    #merge datas\n",
    "    data=pd.merge(pd.merge(pd.merge(pd.merge(pd.merge(order_items,products),product_translation),orders),sellers),customers)\n",
    "    #get columns of seller_city,customer_city from data\n",
    "    df=data[[\"seller_city\",\"customer_city\"]]\n",
    "    #compute interaction between seller_city,customer_city and creat a column count1(for count) & pair(for city name pairs)\n",
    "    df1=pd.DataFrame(df.groupby(['seller_city','customer_city']).size()).reset_index()\n",
    "    df1.columns = ['seller_city','customer_city','count1']\n",
    "    df1['pair'] = df1[['seller_city','customer_city']].apply(lambda x : '{},{}'.format(x[0],x[1]), axis=1)\n",
    "    df1=df1[[\"count1\",\"pair\"]]\n",
    "    #compute opposite of interaction between seller_city,customer_city and creat a column count2 for result\n",
    "    df2=pd.DataFrame(df.groupby(['customer_city','seller_city']).size()).reset_index()\n",
    "    df2.columns = ['seller_city','customer_city','count2']\n",
    "    df2['pair'] = df2[['seller_city','customer_city']].apply(lambda x : '{},{}'.format(x[0],x[1]), axis=1)\n",
    "    df2=df2[[\"count2\",\"pair\"]]\n",
    "    #merge two dataframe df1&df2\n",
    "    df3=pd.merge(df1,df2, on='pair')\n",
    "    #sum columns of count1 & count2 and name the new column Total_orders\n",
    "    Total_orders = df3[\"count1\"] + df3[\"count2\"]\n",
    "    df3[\"Total_orders\"] = Total_orders\n",
    "    #Sort column of Total_orders and delete extra columns\n",
    "    df3=df3.sort_values(by=\"Total_orders\",ascending=False)\n",
    "    del df3['count1']\n",
    "    del df3['count2']\n",
    "    #drop duplicate rows\n",
    "    df4 = df3.drop_duplicates(['Total_orders']).reset_index(drop=True)\n",
    "    df5=df4.drop(df4.index[0])\n",
    "    df6=df5.drop(df5.index[7])\n",
    "    #display(df3.head(20))\n",
    "    #display(df5.head(10))\n",
    "    display(df6.head(10))"
   ]
  },
  {
   "cell_type": "code",
   "execution_count": null,
   "metadata": {},
   "outputs": [],
   "source": [
    "dataset_dir='/home/fatemeh/Desktop/analysisi-final/brazilian-ecommerce/'\n",
    "Problem2(dataset_dir)"
   ]
  }
 ],
 "metadata": {
  "kernelspec": {
   "display_name": "Python 3",
   "language": "python",
   "name": "python3"
  },
  "language_info": {
   "codemirror_mode": {
    "name": "ipython",
    "version": 3
   },
   "file_extension": ".py",
   "mimetype": "text/x-python",
   "name": "python",
   "nbconvert_exporter": "python",
   "pygments_lexer": "ipython3",
   "version": "3.8.5"
  }
 },
 "nbformat": 4,
 "nbformat_minor": 4
}
